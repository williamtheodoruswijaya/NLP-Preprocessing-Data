{
 "cells": [
  {
   "cell_type": "code",
   "execution_count": 1,
   "metadata": {},
   "outputs": [
    {
     "name": "stdout",
     "output_type": "stream",
     "text": [
      "Requirement already satisfied: nltk in c:\\users\\hendra wijaya\\appdata\\local\\programs\\python\\python312\\lib\\site-packages (3.8.1)\n",
      "Requirement already satisfied: click in c:\\users\\hendra wijaya\\appdata\\local\\programs\\python\\python312\\lib\\site-packages (from nltk) (8.1.7)\n",
      "Requirement already satisfied: joblib in c:\\users\\hendra wijaya\\appdata\\local\\programs\\python\\python312\\lib\\site-packages (from nltk) (1.4.2)\n",
      "Requirement already satisfied: regex>=2021.8.3 in c:\\users\\hendra wijaya\\appdata\\local\\programs\\python\\python312\\lib\\site-packages (from nltk) (2024.5.15)\n",
      "Requirement already satisfied: tqdm in c:\\users\\hendra wijaya\\appdata\\local\\programs\\python\\python312\\lib\\site-packages (from nltk) (4.66.2)\n",
      "Requirement already satisfied: colorama in c:\\users\\hendra wijaya\\appdata\\roaming\\python\\python312\\site-packages (from click->nltk) (0.4.6)\n",
      "Note: you may need to restart the kernel to use updated packages.\n"
     ]
    }
   ],
   "source": [
    "%pip install nltk"
   ]
  },
  {
   "cell_type": "markdown",
   "metadata": {},
   "source": [
    "# 1. Naives Bayes Theorem"
   ]
  },
  {
   "cell_type": "markdown",
   "metadata": {},
   "source": [
    "Flow:\n",
    "\n",
    "1. Read data:\n",
    "```py\n",
    "positive = open(\"positive.txt\", \"r\").read()\n",
    "negative = open(\"negative.txt\", \"r\").read()\n",
    "```\n",
    "\n",
    "2. Tokenize datanya\n",
    "Karena data yang diread akan dipindahkan ke dalam variable dalam tipe String. Kita harus tokenize dulu untuk bagian pre-processing datanya.\n",
    "```py\n",
    "list_words = word_tokenize(positive) + word_tokenize(negative)\n",
    "```\n",
    "\n",
    "3. Bersihin kata-kata\n",
    "\n",
    "- Stopwords\n",
    "```py\n",
    "list_words = [word for word in list_words if word.lower() not in eng_stopwords]\n",
    "```\n",
    "- Punctuation\n",
    "```py\n",
    "list_words = [word for word in list_words if word.lower() not in string.punctuation]\n",
    "```\n",
    "- Ngilangin angka\n",
    "```py\n",
    "list_words = [word for word in list_words if word.isalpha()] # append ke list_words kalau word adalah sebuah alphabet\n",
    "```\n",
    "\n",
    "4. Labeling sentences (pisahin kategori positif & negatif reviews)\n",
    "```py\n",
    "labeled_sentence = []\n",
    "for sentence in positive.split(\"\\n\"):\n",
    "    labeled_sentence.append((sentence, \"pos\"))\n",
    "\n",
    "for sentence in negative.split(\"\\n\"):\n",
    "    labeled_sentence.append((sentence, \"neg\"))\n",
    "```\n",
    "\n",
    "5. Membuat dataset (dari kata2 + labeled_sentence yang udah kita buat)\n",
    "```py\n",
    "dataset = []\n",
    "for sentence, label in labeled_sentence:\n",
    "    dict = {}\n",
    "    # word tokenize sentencesnya\n",
    "    words = word_tokenize()\n",
    "    # masukin ke dalam dictionarynya\n",
    "    for feature in list_words:\n",
    "        key = feature # kata\n",
    "        value = feature in words # kita mau cek aja sih ada ga sih kata-kata dalam kalimat kita yang ada dalam list of words bersih yang udah kita buat.\n",
    "        dict[key] = value # contoh {\"love\" : False, \"damn\" : True}\n",
    "    # kalau dictionarynya udah dibuat, kita masukin dia ke dataset yg udah kita buat\n",
    "    dataset.append((dict, label))"
   ]
  },
  {
   "cell_type": "markdown",
   "metadata": {},
   "source": []
  }
 ],
 "metadata": {
  "kernelspec": {
   "display_name": "Python 3",
   "language": "python",
   "name": "python3"
  },
  "language_info": {
   "codemirror_mode": {
    "name": "ipython",
    "version": 3
   },
   "file_extension": ".py",
   "mimetype": "text/x-python",
   "name": "python",
   "nbconvert_exporter": "python",
   "pygments_lexer": "ipython3",
   "version": "3.12.2"
  }
 },
 "nbformat": 4,
 "nbformat_minor": 2
}
