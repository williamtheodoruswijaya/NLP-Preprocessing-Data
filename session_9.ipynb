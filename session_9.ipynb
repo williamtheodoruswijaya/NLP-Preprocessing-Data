{
 "cells": [
  {
   "cell_type": "markdown",
   "metadata": {},
   "source": [
    "# Grammar Parsing with NLTK\n",
    "Grammar parsing adalah syntax analysis yang mana dia akan memecahkan suatu text menjadi struktur grammartical."
   ]
  },
  {
   "cell_type": "code",
   "execution_count": 4,
   "metadata": {},
   "outputs": [
    {
     "name": "stdout",
     "output_type": "stream",
     "text": [
      "showing info https://raw.githubusercontent.com/nltk/nltk_data/gh-pages/index.xml\n",
      "\n",
      "\n",
      "Parsing sentence 1: 'the cat'\n",
      "No parses found.\n",
      "\n",
      "\n",
      "\n",
      "\n",
      "Parsing sentence 2: 'the cat on the mat'\n",
      "No parses found.\n",
      "\n",
      "\n",
      "\n",
      "\n",
      "Parsing sentence 3: 'the cat sat on the mat'\n",
      "No parses found.\n",
      "\n",
      "\n",
      "\n",
      "\n",
      "Parsing sentence 4: 'the cat sat on the mat with the mouse'\n",
      "No parses found.\n",
      "\n",
      "\n",
      "\n",
      "\n",
      "Parsing sentence 5: 'the cat sat on the mat with a mouse'\n",
      "No parses found.\n",
      "\n",
      "\n"
     ]
    }
   ],
   "source": [
    "import nltk\n",
    "from nltk import CFG\n",
    "from nltk.parse import ChartParser\n",
    "nltk.download()\n",
    "\n",
    "def demonstrate_nlp_parsing(sentence, grammar):\n",
    "    words = nltk.word_tokenize(sentence)\n",
    "    parser = ChartParser(grammar)\n",
    "\n",
    "    try:\n",
    "        parses = list(parser.parse(words))\n",
    "        if parses:\n",
    "            for tree in parser.parse(sentence.split()):\n",
    "                print(tree, '\\n')\n",
    "                tree.pretty_print()\n",
    "        else:\n",
    "            print('No parses found.')\n",
    "    except nltk.parse.api.ParserError as e:\n",
    "        print(f\"Error during parsing: {e}\")\n",
    "    \n",
    "nlp_grammar = CFG.fromstring(\"\"\"\n",
    "    S -> NP VP\n",
    "    NP -> Det N | Det N PP\n",
    "    VP -> V NP | VP PP\n",
    "    PP -> P NP\n",
    "    Det -> 'the' | 'a'\n",
    "    N -> 'cat' | 'mat' | 'mouse'\n",
    "    V -> 'sat' | 'sat'\n",
    "    P -> 'on' | 'with'    \n",
    "\"\"\")\n",
    "\n",
    "nlp_sentence = [\n",
    "    \"the cat\",\n",
    "    \"the cat on the mat\",\n",
    "    \"the cat sat on the mat\",\n",
    "    \"the cat sat on the mat with the mouse\",\n",
    "    \"the cat sat on the mat with a mouse\"\n",
    "]\n",
    "\n",
    "for i, sentence in enumerate(nlp_sentence):\n",
    "    print(f\"\\n\\nParsing sentence {i+1}: '{sentence}'\")\n",
    "    demonstrate_nlp_parsing(sentence, nlp_grammar)\n",
    "    print(\"\\n\")"
   ]
  }
 ],
 "metadata": {
  "kernelspec": {
   "display_name": "Python 3",
   "language": "python",
   "name": "python3"
  },
  "language_info": {
   "codemirror_mode": {
    "name": "ipython",
    "version": 3
   },
   "file_extension": ".py",
   "mimetype": "text/x-python",
   "name": "python",
   "nbconvert_exporter": "python",
   "pygments_lexer": "ipython3",
   "version": "3.12.3"
  }
 },
 "nbformat": 4,
 "nbformat_minor": 2
}
