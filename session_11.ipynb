{
 "cells": [
  {
   "cell_type": "markdown",
   "metadata": {},
   "source": [
    "# NER with Spacy\n",
    "\n",
    "Teknik dalam memproses suatu kalimat dalam NLP dengan cara mengidentifikasi dan mengekstrak entitas dimana entitas disini tuh bisa aja jadi sebuah object, orang, lokasi, dan sebagainya. Tujuan utamanya adalah untuk mengenali entitas ini ke dalam sebuah kategori yang ditentukan."
   ]
  },
  {
   "cell_type": "code",
   "execution_count": 3,
   "metadata": {},
   "outputs": [
    {
     "ename": "ModuleNotFoundError",
     "evalue": "No module named 'spacy'",
     "output_type": "error",
     "traceback": [
      "\u001b[1;31m---------------------------------------------------------------------------\u001b[0m",
      "\u001b[1;31mModuleNotFoundError\u001b[0m                       Traceback (most recent call last)",
      "Cell \u001b[1;32mIn[3], line 1\u001b[0m\n\u001b[1;32m----> 1\u001b[0m \u001b[38;5;28;01mimport\u001b[39;00m \u001b[38;5;21;01mspacy\u001b[39;00m\n\u001b[0;32m      3\u001b[0m \u001b[38;5;28;01mdef\u001b[39;00m \u001b[38;5;21mextract_named_entities_and_parsed_trees\u001b[39m(sentence):\n\u001b[0;32m      4\u001b[0m     nlp \u001b[38;5;241m=\u001b[39m spacy\u001b[38;5;241m.\u001b[39mload(\u001b[38;5;124m'\u001b[39m\u001b[38;5;124men_core_web_sm\u001b[39m\u001b[38;5;124m'\u001b[39m)\n",
      "\u001b[1;31mModuleNotFoundError\u001b[0m: No module named 'spacy'"
     ]
    }
   ],
   "source": [
    "import spacy\n",
    "\n",
    "def extract_named_entities_and_parsed_trees(sentence):\n",
    "    nlp = spacy.load('en_core_web_sm')\n",
    "    doc = nlp(sentence)\n",
    "    named_entities = {\n",
    "        \"persons\": [ent.text for ent in doc.ents if ent.label_ == 'PERSON'],\n",
    "        \"organizations\": [ent.text for ent in doc.ents if ent.label_ == 'ORG'],\n",
    "        \"locations\": [ent.text for ent in doc.ents if ent.label_ == 'GPE']\n",
    "    }\n",
    "\n",
    "    print(\"Formatted Dependency Parse Tree:\")\n",
    "    for token in doc:\n",
    "        print(f\"{token.text} <--{token.dep_}-- {token.head.text} ({token.pos_})\")\n",
    "    return named_entities\n",
    "\n",
    "def main():\n",
    "    sentence = \"Apple is a company founded by Steve Jobs. It is headquartered in Cupertino, California.\"\n",
    "    named_entities = extract_named_entities_and_parsed_trees(sentence)\n",
    "\n",
    "    print(\"\\nExtracted Named Entities:\")\n",
    "    print(\"Persons: \", named_entities[\"persons\"])\n",
    "    print(\"Organizations: \", named_entities[\"organizations\"])\n",
    "    print(\"Locations: \", named_entities[\"locations\"])\n",
    "\n",
    "if __name__ == \"__main__\":\n",
    "    main()"
   ]
  },
  {
   "cell_type": "code",
   "execution_count": null,
   "metadata": {},
   "outputs": [],
   "source": [
    "import spacy\n",
    "\n",
    "nlp = spacy.load('en_core_web_sm')\n",
    "\n",
    "text = '''\n",
    "Apple is a company founded by Steve Jobs. It is headquartered in Cupertino, California.\n",
    "Apple Inc. is an American multinational technology company that specializes in consumer electronics, computer software, and online services.\n",
    "Apple was founded by Steve Jobs, Steve Wozniak, and Ronald Wayne in April 1976 to develop and sell Wozniak's Apple I personal computer.\n",
    "You can buy Apple products at their stores or on their website.\n",
    "'''\n",
    "\n",
    "doc = nlp(text)\n",
    "\n",
    "categories = {}\n",
    "for ent in doc.ents:\n",
    "    label = ent.label\n",
    "    if label not in categories:\n",
    "        categories[label] = []\n",
    "    categories[label].append(ent.text)\n",
    "\n",
    "print(\"Categories Named Entities:\")\n",
    "for label, entities in categories.items():\n",
    "    print(f\"{label}: {entities}\")"
   ]
  }
 ],
 "metadata": {
  "kernelspec": {
   "display_name": "Python 3",
   "language": "python",
   "name": "python3"
  },
  "language_info": {
   "codemirror_mode": {
    "name": "ipython",
    "version": 3
   },
   "file_extension": ".py",
   "mimetype": "text/x-python",
   "name": "python",
   "nbconvert_exporter": "python",
   "pygments_lexer": "ipython3",
   "version": "3.12.3"
  }
 },
 "nbformat": 4,
 "nbformat_minor": 2
}
