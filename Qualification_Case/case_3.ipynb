{
 "cells": [
  {
   "cell_type": "code",
   "execution_count": 1,
   "metadata": {},
   "outputs": [
    {
     "name": "stdout",
     "output_type": "stream",
     "text": [
      "showing info https://raw.githubusercontent.com/nltk/nltk_data/gh-pages/index.xml\n"
     ]
    }
   ],
   "source": [
    "import nltk\n",
    "from nltk import CFG\n",
    "from nltk.parse import ChartParser\n",
    "\n",
    "def demonstrate_nlp_parsing(sentence, grammar):\n",
    "    words = nltk.word_tokenize(sentence)\n",
    "    parser = ChartParser(grammar)\n",
    "\n",
    "    try:\n",
    "        parses = list(parser.parse(words))\n",
    "        if parses:\n",
    "            for tree in parser.parse(sentence.split()):\n",
    "                print(tree, '\\n')\n",
    "                tree.pretty_print()\n",
    "        else:\n",
    "            print('No parses found.')\n",
    "    except nltk.parse.api.ParserError as e:\n",
    "        print(f\"Error during parsing: {e}\")\n",
    "    \n",
    "nlp_grammar = CFG.fromstring(\"\"\"\n",
    "    S -> NP VP\n",
    "    NP -> Det N | Det N PP\n",
    "    VP -> V NP | VP PP\n",
    "    PP -> P NP\n",
    "    Det -> 'The' | 'the'\n",
    "    N -> 'farmer' | 'cart' | 'sand'\n",
    "    V -> 'loaded' | 'filled' | 'dumped'\n",
    "    P -> 'with' | 'into'\n",
    "\"\"\")\n",
    "\n",
    "nlp_sentence = [\n",
    "    \"The farmer loaded the cart with sand \",\n",
    "    \"The farmer loaded sand into the cart \",\n",
    "    \"The farmer filled the cart with sand \",\n",
    "    \"The farmer filled the cart with sand \",\n",
    "    \"The farmer dumped the cart with sand \",\n",
    "    \"The farmer dumped sand into the cart \",\n",
    "]\n",
    "\n",
    "for i, sentence in enumerate(nlp_sentence):\n",
    "    print(f\"\\n\\nParsing sentence {i+1}: '{sentence}'\")\n",
    "    demonstrate_nlp_parsing(sentence, nlp_grammar)\n",
    "    print(\"\\n\")"
   ]
  }
 ],
 "metadata": {
  "kernelspec": {
   "display_name": "Python 3",
   "language": "python",
   "name": "python3"
  },
  "language_info": {
   "codemirror_mode": {
    "name": "ipython",
    "version": 3
   },
   "file_extension": ".py",
   "mimetype": "text/x-python",
   "name": "python",
   "nbconvert_exporter": "python",
   "pygments_lexer": "ipython3",
   "version": "3.12.2"
  }
 },
 "nbformat": 4,
 "nbformat_minor": 2
}
